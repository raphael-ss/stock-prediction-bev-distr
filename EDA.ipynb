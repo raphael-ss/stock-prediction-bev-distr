{
 "cells": [
  {
   "cell_type": "markdown",
   "metadata": {},
   "source": [
    "# Pré-Processamento e Análise Exploratória (EDA): Projeto Bebo Bem - Gestão de Estoque\n",
    "\n",
    "### *Importações e Leitura dos Dados*\n",
    "---"
   ]
  },
  {
   "cell_type": "code",
   "execution_count": 110,
   "metadata": {},
   "outputs": [],
   "source": [
    "import numpy as np\n",
    "import pandas as pd\n",
    "import matplotlib as mpl \n",
    "import matplotlib.pyplot as plt \n",
    "import seaborn as sns\n",
    "import plotly.graph_objs as go\n",
    "import plotly.express as px"
   ]
  },
  {
   "cell_type": "code",
   "execution_count": 111,
   "metadata": {},
   "outputs": [
    {
     "data": {
      "text/html": [
       "<div>\n",
       "<style scoped>\n",
       "    .dataframe tbody tr th:only-of-type {\n",
       "        vertical-align: middle;\n",
       "    }\n",
       "\n",
       "    .dataframe tbody tr th {\n",
       "        vertical-align: top;\n",
       "    }\n",
       "\n",
       "    .dataframe thead th {\n",
       "        text-align: right;\n",
       "    }\n",
       "</style>\n",
       "<table border=\"1\" class=\"dataframe\">\n",
       "  <thead>\n",
       "    <tr style=\"text-align: right;\">\n",
       "      <th></th>\n",
       "      <th>Unnamed: 0</th>\n",
       "      <th>Unnamed: 1</th>\n",
       "      <th>Unnamed: 2</th>\n",
       "      <th>Unnamed: 3</th>\n",
       "      <th>Unnamed: 4</th>\n",
       "      <th>Unnamed: 5</th>\n",
       "      <th>Unnamed: 6</th>\n",
       "      <th>Unnamed: 7</th>\n",
       "      <th>Unnamed: 8</th>\n",
       "    </tr>\n",
       "  </thead>\n",
       "  <tbody>\n",
       "    <tr>\n",
       "      <th>0</th>\n",
       "      <td>NaN</td>\n",
       "      <td>Histórico de estoque</td>\n",
       "      <td>NaN</td>\n",
       "      <td>NaN</td>\n",
       "      <td>NaN</td>\n",
       "      <td>NaN</td>\n",
       "      <td>NaN</td>\n",
       "      <td>NaN</td>\n",
       "      <td>NaN</td>\n",
       "    </tr>\n",
       "    <tr>\n",
       "      <th>1</th>\n",
       "      <td>NaN</td>\n",
       "      <td>Data</td>\n",
       "      <td>Produto</td>\n",
       "      <td>NaN</td>\n",
       "      <td>Código</td>\n",
       "      <td>Movimentação</td>\n",
       "      <td>NaN</td>\n",
       "      <td>NaN</td>\n",
       "      <td>Qtd</td>\n",
       "    </tr>\n",
       "    <tr>\n",
       "      <th>2</th>\n",
       "      <td>NaN</td>\n",
       "      <td>31/12/2023 22:32</td>\n",
       "      <td>Lucky Strike Double Fresh</td>\n",
       "      <td>NaN</td>\n",
       "      <td>44</td>\n",
       "      <td>Venda</td>\n",
       "      <td>NaN</td>\n",
       "      <td>NaN</td>\n",
       "      <td>-1</td>\n",
       "    </tr>\n",
       "    <tr>\n",
       "      <th>3</th>\n",
       "      <td>NaN</td>\n",
       "      <td>31/12/2023 22:32</td>\n",
       "      <td>Carvão 2kg</td>\n",
       "      <td>NaN</td>\n",
       "      <td>134</td>\n",
       "      <td>Venda</td>\n",
       "      <td>NaN</td>\n",
       "      <td>NaN</td>\n",
       "      <td>-1</td>\n",
       "    </tr>\n",
       "    <tr>\n",
       "      <th>4</th>\n",
       "      <td>NaN</td>\n",
       "      <td>31/12/2023 22:12</td>\n",
       "      <td>Gelo de Coco</td>\n",
       "      <td>NaN</td>\n",
       "      <td>118</td>\n",
       "      <td>Venda</td>\n",
       "      <td>NaN</td>\n",
       "      <td>NaN</td>\n",
       "      <td>-4</td>\n",
       "    </tr>\n",
       "    <tr>\n",
       "      <th>5</th>\n",
       "      <td>NaN</td>\n",
       "      <td>31/12/2023 22:12</td>\n",
       "      <td>Itaipava Latão</td>\n",
       "      <td>NaN</td>\n",
       "      <td>28</td>\n",
       "      <td>Venda</td>\n",
       "      <td>NaN</td>\n",
       "      <td>NaN</td>\n",
       "      <td>-3</td>\n",
       "    </tr>\n",
       "    <tr>\n",
       "      <th>6</th>\n",
       "      <td>NaN</td>\n",
       "      <td>31/12/2023 22:12</td>\n",
       "      <td>Start 2L</td>\n",
       "      <td>NaN</td>\n",
       "      <td>71</td>\n",
       "      <td>Venda</td>\n",
       "      <td>NaN</td>\n",
       "      <td>NaN</td>\n",
       "      <td>-1</td>\n",
       "    </tr>\n",
       "    <tr>\n",
       "      <th>7</th>\n",
       "      <td>NaN</td>\n",
       "      <td>31/12/2023 21:56</td>\n",
       "      <td>Baton</td>\n",
       "      <td>NaN</td>\n",
       "      <td>95</td>\n",
       "      <td>Venda</td>\n",
       "      <td>NaN</td>\n",
       "      <td>NaN</td>\n",
       "      <td>-2</td>\n",
       "    </tr>\n",
       "    <tr>\n",
       "      <th>8</th>\n",
       "      <td>NaN</td>\n",
       "      <td>31/12/2023 21:56</td>\n",
       "      <td>Itaipava Latão</td>\n",
       "      <td>NaN</td>\n",
       "      <td>28</td>\n",
       "      <td>Venda</td>\n",
       "      <td>NaN</td>\n",
       "      <td>NaN</td>\n",
       "      <td>-3</td>\n",
       "    </tr>\n",
       "    <tr>\n",
       "      <th>9</th>\n",
       "      <td>NaN</td>\n",
       "      <td>31/12/2023 21:56</td>\n",
       "      <td>Pingo D'ouro 48g</td>\n",
       "      <td>NaN</td>\n",
       "      <td>178</td>\n",
       "      <td>Venda</td>\n",
       "      <td>NaN</td>\n",
       "      <td>NaN</td>\n",
       "      <td>-1</td>\n",
       "    </tr>\n",
       "    <tr>\n",
       "      <th>10</th>\n",
       "      <td>NaN</td>\n",
       "      <td>31/12/2023 21:56</td>\n",
       "      <td>Cebolitos 110g</td>\n",
       "      <td>NaN</td>\n",
       "      <td>85</td>\n",
       "      <td>Venda</td>\n",
       "      <td>NaN</td>\n",
       "      <td>NaN</td>\n",
       "      <td>-1</td>\n",
       "    </tr>\n",
       "    <tr>\n",
       "      <th>11</th>\n",
       "      <td>NaN</td>\n",
       "      <td>31/12/2023 21:51</td>\n",
       "      <td>Itaipava Latão</td>\n",
       "      <td>NaN</td>\n",
       "      <td>28</td>\n",
       "      <td>Venda</td>\n",
       "      <td>NaN</td>\n",
       "      <td>NaN</td>\n",
       "      <td>-1</td>\n",
       "    </tr>\n",
       "    <tr>\n",
       "      <th>12</th>\n",
       "      <td>NaN</td>\n",
       "      <td>NaN</td>\n",
       "      <td>NaN</td>\n",
       "      <td>NaN</td>\n",
       "      <td>NaN</td>\n",
       "      <td>NaN</td>\n",
       "      <td>NaN</td>\n",
       "      <td>NaN</td>\n",
       "      <td>NaN</td>\n",
       "    </tr>\n",
       "    <tr>\n",
       "      <th>13</th>\n",
       "      <td>NaN</td>\n",
       "      <td>1</td>\n",
       "      <td>NaN</td>\n",
       "      <td>/ 172</td>\n",
       "      <td>NaN</td>\n",
       "      <td>NaN</td>\n",
       "      <td>NaN</td>\n",
       "      <td>Gerado em 03/04/24\\n21:59:43</td>\n",
       "      <td>NaN</td>\n",
       "    </tr>\n",
       "    <tr>\n",
       "      <th>14</th>\n",
       "      <td>NaN</td>\n",
       "      <td>NaN</td>\n",
       "      <td>NaN</td>\n",
       "      <td>NaN</td>\n",
       "      <td>NaN</td>\n",
       "      <td>NaN</td>\n",
       "      <td>NaN</td>\n",
       "      <td>NaN</td>\n",
       "      <td>NaN</td>\n",
       "    </tr>\n",
       "  </tbody>\n",
       "</table>\n",
       "</div>"
      ],
      "text/plain": [
       "    Unnamed: 0            Unnamed: 1                 Unnamed: 2 Unnamed: 3  \\\n",
       "0          NaN  Histórico de estoque                        NaN        NaN   \n",
       "1          NaN                  Data                    Produto        NaN   \n",
       "2          NaN      31/12/2023 22:32  Lucky Strike Double Fresh        NaN   \n",
       "3          NaN      31/12/2023 22:32                 Carvão 2kg        NaN   \n",
       "4          NaN      31/12/2023 22:12               Gelo de Coco        NaN   \n",
       "5          NaN      31/12/2023 22:12             Itaipava Latão        NaN   \n",
       "6          NaN      31/12/2023 22:12                   Start 2L        NaN   \n",
       "7          NaN      31/12/2023 21:56                      Baton        NaN   \n",
       "8          NaN      31/12/2023 21:56             Itaipava Latão        NaN   \n",
       "9          NaN      31/12/2023 21:56           Pingo D'ouro 48g        NaN   \n",
       "10         NaN      31/12/2023 21:56             Cebolitos 110g        NaN   \n",
       "11         NaN      31/12/2023 21:51             Itaipava Latão        NaN   \n",
       "12         NaN                   NaN                        NaN        NaN   \n",
       "13         NaN                     1                        NaN      / 172   \n",
       "14         NaN                   NaN                        NaN        NaN   \n",
       "\n",
       "   Unnamed: 4    Unnamed: 5  Unnamed: 6                    Unnamed: 7  \\\n",
       "0         NaN           NaN         NaN                           NaN   \n",
       "1      Código  Movimentação         NaN                           NaN   \n",
       "2          44         Venda         NaN                           NaN   \n",
       "3         134         Venda         NaN                           NaN   \n",
       "4         118         Venda         NaN                           NaN   \n",
       "5          28         Venda         NaN                           NaN   \n",
       "6          71         Venda         NaN                           NaN   \n",
       "7          95         Venda         NaN                           NaN   \n",
       "8          28         Venda         NaN                           NaN   \n",
       "9         178         Venda         NaN                           NaN   \n",
       "10         85         Venda         NaN                           NaN   \n",
       "11         28         Venda         NaN                           NaN   \n",
       "12        NaN           NaN         NaN                           NaN   \n",
       "13        NaN           NaN         NaN  Gerado em 03/04/24\\n21:59:43   \n",
       "14        NaN           NaN         NaN                           NaN   \n",
       "\n",
       "   Unnamed: 8  \n",
       "0         NaN  \n",
       "1         Qtd  \n",
       "2          -1  \n",
       "3          -1  \n",
       "4          -4  \n",
       "5          -3  \n",
       "6          -1  \n",
       "7          -2  \n",
       "8          -3  \n",
       "9          -1  \n",
       "10         -1  \n",
       "11         -1  \n",
       "12        NaN  \n",
       "13        NaN  \n",
       "14        NaN  "
      ]
     },
     "execution_count": 111,
     "metadata": {},
     "output_type": "execute_result"
    }
   ],
   "source": [
    "dez = pd.read_csv('DEZ-2023.csv')\n",
    "jan = pd.read_csv('JAN-2024.csv')\n",
    "fev = pd.read_csv('FEV-2024.csv')\n",
    "mar = pd.read_csv('MAR-2024.csv')\n",
    "df = pd.concat([dez,jan,fev,mar], axis=0)\n",
    "df.head(15)"
   ]
  },
  {
   "cell_type": "markdown",
   "metadata": {},
   "source": [
    "### *Pré-Processamento*\n",
    "---"
   ]
  },
  {
   "cell_type": "code",
   "execution_count": 112,
   "metadata": {},
   "outputs": [
    {
     "data": {
      "text/html": [
       "<div>\n",
       "<style scoped>\n",
       "    .dataframe tbody tr th:only-of-type {\n",
       "        vertical-align: middle;\n",
       "    }\n",
       "\n",
       "    .dataframe tbody tr th {\n",
       "        vertical-align: top;\n",
       "    }\n",
       "\n",
       "    .dataframe thead th {\n",
       "        text-align: right;\n",
       "    }\n",
       "</style>\n",
       "<table border=\"1\" class=\"dataframe\">\n",
       "  <thead>\n",
       "    <tr style=\"text-align: right;\">\n",
       "      <th></th>\n",
       "      <th>Unnamed: 1</th>\n",
       "      <th>Unnamed: 2</th>\n",
       "      <th>Unnamed: 4</th>\n",
       "      <th>Unnamed: 5</th>\n",
       "      <th>Unnamed: 8</th>\n",
       "    </tr>\n",
       "  </thead>\n",
       "  <tbody>\n",
       "    <tr>\n",
       "      <th>0</th>\n",
       "      <td>Histórico de estoque</td>\n",
       "      <td>NaN</td>\n",
       "      <td>NaN</td>\n",
       "      <td>NaN</td>\n",
       "      <td>NaN</td>\n",
       "    </tr>\n",
       "    <tr>\n",
       "      <th>1</th>\n",
       "      <td>Data</td>\n",
       "      <td>Produto</td>\n",
       "      <td>Código</td>\n",
       "      <td>Movimentação</td>\n",
       "      <td>Qtd</td>\n",
       "    </tr>\n",
       "    <tr>\n",
       "      <th>2</th>\n",
       "      <td>31/12/2023 22:32</td>\n",
       "      <td>Lucky Strike Double Fresh</td>\n",
       "      <td>44</td>\n",
       "      <td>Venda</td>\n",
       "      <td>-1</td>\n",
       "    </tr>\n",
       "    <tr>\n",
       "      <th>3</th>\n",
       "      <td>31/12/2023 22:32</td>\n",
       "      <td>Carvão 2kg</td>\n",
       "      <td>134</td>\n",
       "      <td>Venda</td>\n",
       "      <td>-1</td>\n",
       "    </tr>\n",
       "    <tr>\n",
       "      <th>4</th>\n",
       "      <td>31/12/2023 22:12</td>\n",
       "      <td>Gelo de Coco</td>\n",
       "      <td>118</td>\n",
       "      <td>Venda</td>\n",
       "      <td>-4</td>\n",
       "    </tr>\n",
       "  </tbody>\n",
       "</table>\n",
       "</div>"
      ],
      "text/plain": [
       "             Unnamed: 1                 Unnamed: 2 Unnamed: 4    Unnamed: 5  \\\n",
       "0  Histórico de estoque                        NaN        NaN           NaN   \n",
       "1                  Data                    Produto     Código  Movimentação   \n",
       "2      31/12/2023 22:32  Lucky Strike Double Fresh         44         Venda   \n",
       "3      31/12/2023 22:32                 Carvão 2kg        134         Venda   \n",
       "4      31/12/2023 22:12               Gelo de Coco        118         Venda   \n",
       "\n",
       "  Unnamed: 8  \n",
       "0        NaN  \n",
       "1        Qtd  \n",
       "2         -1  \n",
       "3         -1  \n",
       "4         -4  "
      ]
     },
     "execution_count": 112,
     "metadata": {},
     "output_type": "execute_result"
    }
   ],
   "source": [
    "df.drop(['Unnamed: 0','Unnamed: 3','Unnamed: 6','Unnamed: 7'],axis=1,inplace=True)\n",
    "df.head()"
   ]
  },
  {
   "cell_type": "code",
   "execution_count": 113,
   "metadata": {},
   "outputs": [
    {
     "data": {
      "text/html": [
       "<div>\n",
       "<style scoped>\n",
       "    .dataframe tbody tr th:only-of-type {\n",
       "        vertical-align: middle;\n",
       "    }\n",
       "\n",
       "    .dataframe tbody tr th {\n",
       "        vertical-align: top;\n",
       "    }\n",
       "\n",
       "    .dataframe thead th {\n",
       "        text-align: right;\n",
       "    }\n",
       "</style>\n",
       "<table border=\"1\" class=\"dataframe\">\n",
       "  <thead>\n",
       "    <tr style=\"text-align: right;\">\n",
       "      <th></th>\n",
       "      <th>Date</th>\n",
       "      <th>Product</th>\n",
       "      <th>Code</th>\n",
       "      <th>Flow</th>\n",
       "      <th>Amount</th>\n",
       "    </tr>\n",
       "  </thead>\n",
       "  <tbody>\n",
       "    <tr>\n",
       "      <th>0</th>\n",
       "      <td>Histórico de estoque</td>\n",
       "      <td>NaN</td>\n",
       "      <td>NaN</td>\n",
       "      <td>NaN</td>\n",
       "      <td>NaN</td>\n",
       "    </tr>\n",
       "    <tr>\n",
       "      <th>1</th>\n",
       "      <td>Data</td>\n",
       "      <td>Produto</td>\n",
       "      <td>Código</td>\n",
       "      <td>Movimentação</td>\n",
       "      <td>Qtd</td>\n",
       "    </tr>\n",
       "    <tr>\n",
       "      <th>2</th>\n",
       "      <td>31/12/2023 22:32</td>\n",
       "      <td>Lucky Strike Double Fresh</td>\n",
       "      <td>44</td>\n",
       "      <td>Venda</td>\n",
       "      <td>-1</td>\n",
       "    </tr>\n",
       "    <tr>\n",
       "      <th>3</th>\n",
       "      <td>31/12/2023 22:32</td>\n",
       "      <td>Carvão 2kg</td>\n",
       "      <td>134</td>\n",
       "      <td>Venda</td>\n",
       "      <td>-1</td>\n",
       "    </tr>\n",
       "    <tr>\n",
       "      <th>4</th>\n",
       "      <td>31/12/2023 22:12</td>\n",
       "      <td>Gelo de Coco</td>\n",
       "      <td>118</td>\n",
       "      <td>Venda</td>\n",
       "      <td>-4</td>\n",
       "    </tr>\n",
       "    <tr>\n",
       "      <th>...</th>\n",
       "      <td>...</td>\n",
       "      <td>...</td>\n",
       "      <td>...</td>\n",
       "      <td>...</td>\n",
       "      <td>...</td>\n",
       "    </tr>\n",
       "    <tr>\n",
       "      <th>4279</th>\n",
       "      <td>01/03/2024 16:50</td>\n",
       "      <td>Rothmans Global</td>\n",
       "      <td>177</td>\n",
       "      <td>Venda</td>\n",
       "      <td>-1</td>\n",
       "    </tr>\n",
       "    <tr>\n",
       "      <th>4280</th>\n",
       "      <td>01/03/2024 16:49</td>\n",
       "      <td>Monster Mango Loco 473ml</td>\n",
       "      <td>74</td>\n",
       "      <td>Venda</td>\n",
       "      <td>-1</td>\n",
       "    </tr>\n",
       "    <tr>\n",
       "      <th>4281</th>\n",
       "      <td>01/03/2024 16:29</td>\n",
       "      <td>Zumbitos Requeijão 100g</td>\n",
       "      <td>191</td>\n",
       "      <td>Venda</td>\n",
       "      <td>-1</td>\n",
       "    </tr>\n",
       "    <tr>\n",
       "      <th>4282</th>\n",
       "      <td>NaN</td>\n",
       "      <td>NaN</td>\n",
       "      <td>NaN</td>\n",
       "      <td>NaN</td>\n",
       "      <td>NaN</td>\n",
       "    </tr>\n",
       "    <tr>\n",
       "      <th>4283</th>\n",
       "      <td>268</td>\n",
       "      <td>NaN</td>\n",
       "      <td>NaN</td>\n",
       "      <td>NaN</td>\n",
       "      <td>NaN</td>\n",
       "    </tr>\n",
       "  </tbody>\n",
       "</table>\n",
       "<p>12888 rows × 5 columns</p>\n",
       "</div>"
      ],
      "text/plain": [
       "                      Date                    Product    Code          Flow  \\\n",
       "0     Histórico de estoque                        NaN     NaN           NaN   \n",
       "1                     Data                    Produto  Código  Movimentação   \n",
       "2         31/12/2023 22:32  Lucky Strike Double Fresh      44         Venda   \n",
       "3         31/12/2023 22:32                 Carvão 2kg     134         Venda   \n",
       "4         31/12/2023 22:12               Gelo de Coco     118         Venda   \n",
       "...                    ...                        ...     ...           ...   \n",
       "4279      01/03/2024 16:50            Rothmans Global     177         Venda   \n",
       "4280      01/03/2024 16:49   Monster Mango Loco 473ml      74         Venda   \n",
       "4281      01/03/2024 16:29    Zumbitos Requeijão 100g     191         Venda   \n",
       "4282                   NaN                        NaN     NaN           NaN   \n",
       "4283                   268                        NaN     NaN           NaN   \n",
       "\n",
       "     Amount  \n",
       "0       NaN  \n",
       "1       Qtd  \n",
       "2        -1  \n",
       "3        -1  \n",
       "4        -4  \n",
       "...     ...  \n",
       "4279     -1  \n",
       "4280     -1  \n",
       "4281     -1  \n",
       "4282    NaN  \n",
       "4283    NaN  \n",
       "\n",
       "[12888 rows x 5 columns]"
      ]
     },
     "execution_count": 113,
     "metadata": {},
     "output_type": "execute_result"
    }
   ],
   "source": [
    "df.rename(columns={\n",
    "    'Unnamed: 1': 'Date',\n",
    "    'Unnamed: 2': 'Product',\n",
    "    'Unnamed: 4': 'Code',\n",
    "    'Unnamed: 5': 'Flow',\n",
    "    'Unnamed: 8': 'Amount',\n",
    "}, inplace=True)\n",
    "\n",
    "df"
   ]
  },
  {
   "cell_type": "code",
   "execution_count": 114,
   "metadata": {},
   "outputs": [
    {
     "data": {
      "text/html": [
       "<div>\n",
       "<style scoped>\n",
       "    .dataframe tbody tr th:only-of-type {\n",
       "        vertical-align: middle;\n",
       "    }\n",
       "\n",
       "    .dataframe tbody tr th {\n",
       "        vertical-align: top;\n",
       "    }\n",
       "\n",
       "    .dataframe thead th {\n",
       "        text-align: right;\n",
       "    }\n",
       "</style>\n",
       "<table border=\"1\" class=\"dataframe\">\n",
       "  <thead>\n",
       "    <tr style=\"text-align: right;\">\n",
       "      <th></th>\n",
       "      <th>Date</th>\n",
       "      <th>Product</th>\n",
       "      <th>Code</th>\n",
       "      <th>Flow</th>\n",
       "      <th>Amount</th>\n",
       "    </tr>\n",
       "  </thead>\n",
       "  <tbody>\n",
       "    <tr>\n",
       "      <th>1</th>\n",
       "      <td>Data</td>\n",
       "      <td>Produto</td>\n",
       "      <td>Código</td>\n",
       "      <td>Movimentação</td>\n",
       "      <td>Qtd</td>\n",
       "    </tr>\n",
       "    <tr>\n",
       "      <th>2</th>\n",
       "      <td>31/12/2023 22:32</td>\n",
       "      <td>Lucky Strike Double Fresh</td>\n",
       "      <td>44</td>\n",
       "      <td>Venda</td>\n",
       "      <td>-1</td>\n",
       "    </tr>\n",
       "    <tr>\n",
       "      <th>3</th>\n",
       "      <td>31/12/2023 22:32</td>\n",
       "      <td>Carvão 2kg</td>\n",
       "      <td>134</td>\n",
       "      <td>Venda</td>\n",
       "      <td>-1</td>\n",
       "    </tr>\n",
       "    <tr>\n",
       "      <th>4</th>\n",
       "      <td>31/12/2023 22:12</td>\n",
       "      <td>Gelo de Coco</td>\n",
       "      <td>118</td>\n",
       "      <td>Venda</td>\n",
       "      <td>-4</td>\n",
       "    </tr>\n",
       "    <tr>\n",
       "      <th>5</th>\n",
       "      <td>31/12/2023 22:12</td>\n",
       "      <td>Itaipava Latão</td>\n",
       "      <td>28</td>\n",
       "      <td>Venda</td>\n",
       "      <td>-3</td>\n",
       "    </tr>\n",
       "    <tr>\n",
       "      <th>...</th>\n",
       "      <td>...</td>\n",
       "      <td>...</td>\n",
       "      <td>...</td>\n",
       "      <td>...</td>\n",
       "      <td>...</td>\n",
       "    </tr>\n",
       "    <tr>\n",
       "      <th>4277</th>\n",
       "      <td>01/03/2024 17:05</td>\n",
       "      <td>Corote Limão</td>\n",
       "      <td>114</td>\n",
       "      <td>Venda</td>\n",
       "      <td>-1</td>\n",
       "    </tr>\n",
       "    <tr>\n",
       "      <th>4278</th>\n",
       "      <td>01/03/2024 17:04</td>\n",
       "      <td>Mentos</td>\n",
       "      <td>200</td>\n",
       "      <td>Venda</td>\n",
       "      <td>-2</td>\n",
       "    </tr>\n",
       "    <tr>\n",
       "      <th>4279</th>\n",
       "      <td>01/03/2024 16:50</td>\n",
       "      <td>Rothmans Global</td>\n",
       "      <td>177</td>\n",
       "      <td>Venda</td>\n",
       "      <td>-1</td>\n",
       "    </tr>\n",
       "    <tr>\n",
       "      <th>4280</th>\n",
       "      <td>01/03/2024 16:49</td>\n",
       "      <td>Monster Mango Loco 473ml</td>\n",
       "      <td>74</td>\n",
       "      <td>Venda</td>\n",
       "      <td>-1</td>\n",
       "    </tr>\n",
       "    <tr>\n",
       "      <th>4281</th>\n",
       "      <td>01/03/2024 16:29</td>\n",
       "      <td>Zumbitos Requeijão 100g</td>\n",
       "      <td>191</td>\n",
       "      <td>Venda</td>\n",
       "      <td>-1</td>\n",
       "    </tr>\n",
       "  </tbody>\n",
       "</table>\n",
       "<p>8861 rows × 5 columns</p>\n",
       "</div>"
      ],
      "text/plain": [
       "                  Date                    Product    Code          Flow Amount\n",
       "1                 Data                    Produto  Código  Movimentação    Qtd\n",
       "2     31/12/2023 22:32  Lucky Strike Double Fresh      44         Venda     -1\n",
       "3     31/12/2023 22:32                 Carvão 2kg     134         Venda     -1\n",
       "4     31/12/2023 22:12               Gelo de Coco     118         Venda     -4\n",
       "5     31/12/2023 22:12             Itaipava Latão      28         Venda     -3\n",
       "...                ...                        ...     ...           ...    ...\n",
       "4277  01/03/2024 17:05               Corote Limão     114         Venda     -1\n",
       "4278  01/03/2024 17:04                     Mentos     200         Venda     -2\n",
       "4279  01/03/2024 16:50            Rothmans Global     177         Venda     -1\n",
       "4280  01/03/2024 16:49   Monster Mango Loco 473ml      74         Venda     -1\n",
       "4281  01/03/2024 16:29    Zumbitos Requeijão 100g     191         Venda     -1\n",
       "\n",
       "[8861 rows x 5 columns]"
      ]
     },
     "execution_count": 114,
     "metadata": {},
     "output_type": "execute_result"
    }
   ],
   "source": [
    "df.dropna(axis=0, how='any',inplace=True)\n",
    "df"
   ]
  },
  {
   "cell_type": "code",
   "execution_count": 115,
   "metadata": {},
   "outputs": [],
   "source": [
    "df = df[df['Date'] != 'Data']\n",
    "df = df[df['Product'] != 'Produto']\n",
    "df = df[df['Code'] != 'Código']\n",
    "df = df[df['Flow'] != 'Movimentação']\n",
    "df = df[df['Amount'] != 'Qtd']"
   ]
  },
  {
   "cell_type": "code",
   "execution_count": 116,
   "metadata": {},
   "outputs": [
    {
     "data": {
      "text/html": [
       "<div>\n",
       "<style scoped>\n",
       "    .dataframe tbody tr th:only-of-type {\n",
       "        vertical-align: middle;\n",
       "    }\n",
       "\n",
       "    .dataframe tbody tr th {\n",
       "        vertical-align: top;\n",
       "    }\n",
       "\n",
       "    .dataframe thead th {\n",
       "        text-align: right;\n",
       "    }\n",
       "</style>\n",
       "<table border=\"1\" class=\"dataframe\">\n",
       "  <thead>\n",
       "    <tr style=\"text-align: right;\">\n",
       "      <th></th>\n",
       "      <th>Date</th>\n",
       "      <th>Product</th>\n",
       "      <th>Code</th>\n",
       "      <th>Flow</th>\n",
       "      <th>Amount</th>\n",
       "    </tr>\n",
       "  </thead>\n",
       "  <tbody>\n",
       "    <tr>\n",
       "      <th>2</th>\n",
       "      <td>31/12/2023 22:32</td>\n",
       "      <td>Lucky Strike Double Fresh</td>\n",
       "      <td>44</td>\n",
       "      <td>Venda</td>\n",
       "      <td>-1</td>\n",
       "    </tr>\n",
       "    <tr>\n",
       "      <th>3</th>\n",
       "      <td>31/12/2023 22:32</td>\n",
       "      <td>Carvão 2kg</td>\n",
       "      <td>134</td>\n",
       "      <td>Venda</td>\n",
       "      <td>-1</td>\n",
       "    </tr>\n",
       "    <tr>\n",
       "      <th>4</th>\n",
       "      <td>31/12/2023 22:12</td>\n",
       "      <td>Gelo de Coco</td>\n",
       "      <td>118</td>\n",
       "      <td>Venda</td>\n",
       "      <td>-4</td>\n",
       "    </tr>\n",
       "    <tr>\n",
       "      <th>5</th>\n",
       "      <td>31/12/2023 22:12</td>\n",
       "      <td>Itaipava Latão</td>\n",
       "      <td>28</td>\n",
       "      <td>Venda</td>\n",
       "      <td>-3</td>\n",
       "    </tr>\n",
       "    <tr>\n",
       "      <th>6</th>\n",
       "      <td>31/12/2023 22:12</td>\n",
       "      <td>Start 2L</td>\n",
       "      <td>71</td>\n",
       "      <td>Venda</td>\n",
       "      <td>-1</td>\n",
       "    </tr>\n",
       "  </tbody>\n",
       "</table>\n",
       "</div>"
      ],
      "text/plain": [
       "               Date                    Product Code   Flow Amount\n",
       "2  31/12/2023 22:32  Lucky Strike Double Fresh   44  Venda     -1\n",
       "3  31/12/2023 22:32                 Carvão 2kg  134  Venda     -1\n",
       "4  31/12/2023 22:12               Gelo de Coco  118  Venda     -4\n",
       "5  31/12/2023 22:12             Itaipava Latão   28  Venda     -3\n",
       "6  31/12/2023 22:12                   Start 2L   71  Venda     -1"
      ]
     },
     "execution_count": 116,
     "metadata": {},
     "output_type": "execute_result"
    }
   ],
   "source": [
    "df.head()"
   ]
  },
  {
   "cell_type": "code",
   "execution_count": 117,
   "metadata": {},
   "outputs": [],
   "source": [
    "df['Date'] = pd.to_datetime(df['Date'], format='%d/%m/%Y %H:%M')\n",
    "df.set_index('Date', inplace=True)"
   ]
  },
  {
   "cell_type": "code",
   "execution_count": 118,
   "metadata": {},
   "outputs": [],
   "source": [
    "df.sort_values(by=['Date'], inplace=True)"
   ]
  },
  {
   "cell_type": "code",
   "execution_count": 119,
   "metadata": {},
   "outputs": [],
   "source": [
    "df['Amount'] = pd.to_numeric(df['Amount'])\n",
    "df['Amount'] = df['Amount'].apply(lambda row: abs(row))"
   ]
  },
  {
   "cell_type": "code",
   "execution_count": 120,
   "metadata": {},
   "outputs": [
    {
     "data": {
      "text/html": [
       "<div>\n",
       "<style scoped>\n",
       "    .dataframe tbody tr th:only-of-type {\n",
       "        vertical-align: middle;\n",
       "    }\n",
       "\n",
       "    .dataframe tbody tr th {\n",
       "        vertical-align: top;\n",
       "    }\n",
       "\n",
       "    .dataframe thead th {\n",
       "        text-align: right;\n",
       "    }\n",
       "</style>\n",
       "<table border=\"1\" class=\"dataframe\">\n",
       "  <thead>\n",
       "    <tr style=\"text-align: right;\">\n",
       "      <th></th>\n",
       "      <th>Product</th>\n",
       "      <th>Code</th>\n",
       "      <th>Flow</th>\n",
       "      <th>Amount</th>\n",
       "    </tr>\n",
       "    <tr>\n",
       "      <th>Date</th>\n",
       "      <th></th>\n",
       "      <th></th>\n",
       "      <th></th>\n",
       "      <th></th>\n",
       "    </tr>\n",
       "  </thead>\n",
       "  <tbody>\n",
       "    <tr>\n",
       "      <th>2023-12-04 20:08:00</th>\n",
       "      <td>Itaipava Latão</td>\n",
       "      <td>28</td>\n",
       "      <td>Venda</td>\n",
       "      <td>1</td>\n",
       "    </tr>\n",
       "    <tr>\n",
       "      <th>2023-12-04 20:20:00</th>\n",
       "      <td>Cigarro (Varejo)</td>\n",
       "      <td>147</td>\n",
       "      <td>Venda</td>\n",
       "      <td>2</td>\n",
       "    </tr>\n",
       "    <tr>\n",
       "      <th>2023-12-04 20:20:00</th>\n",
       "      <td>Cheetos Onda 45g</td>\n",
       "      <td>90</td>\n",
       "      <td>Venda</td>\n",
       "      <td>1</td>\n",
       "    </tr>\n",
       "    <tr>\n",
       "      <th>2023-12-04 21:18:00</th>\n",
       "      <td>Cachaça Chora Rita</td>\n",
       "      <td>113</td>\n",
       "      <td>Venda</td>\n",
       "      <td>1</td>\n",
       "    </tr>\n",
       "    <tr>\n",
       "      <th>2023-12-04 21:18:00</th>\n",
       "      <td>Corote Limão</td>\n",
       "      <td>114</td>\n",
       "      <td>Venda</td>\n",
       "      <td>1</td>\n",
       "    </tr>\n",
       "    <tr>\n",
       "      <th>2023-12-04 21:19:00</th>\n",
       "      <td>Doritos 53g</td>\n",
       "      <td>84</td>\n",
       "      <td>Venda</td>\n",
       "      <td>1</td>\n",
       "    </tr>\n",
       "    <tr>\n",
       "      <th>2023-12-04 21:19:00</th>\n",
       "      <td>3 Itaipava Latão</td>\n",
       "      <td>154</td>\n",
       "      <td>Venda</td>\n",
       "      <td>1</td>\n",
       "    </tr>\n",
       "    <tr>\n",
       "      <th>2023-12-04 21:19:00</th>\n",
       "      <td>Pirulito</td>\n",
       "      <td>93</td>\n",
       "      <td>Venda</td>\n",
       "      <td>2</td>\n",
       "    </tr>\n",
       "    <tr>\n",
       "      <th>2023-12-04 21:23:00</th>\n",
       "      <td>Malboro Ice Burst</td>\n",
       "      <td>42</td>\n",
       "      <td>Venda</td>\n",
       "      <td>1</td>\n",
       "    </tr>\n",
       "    <tr>\n",
       "      <th>2023-12-04 21:23:00</th>\n",
       "      <td>3 Amstel 473ml</td>\n",
       "      <td>155</td>\n",
       "      <td>Venda</td>\n",
       "      <td>1</td>\n",
       "    </tr>\n",
       "    <tr>\n",
       "      <th>2023-12-04 21:25:00</th>\n",
       "      <td>Dunhill Calton</td>\n",
       "      <td>45</td>\n",
       "      <td>Venda</td>\n",
       "      <td>1</td>\n",
       "    </tr>\n",
       "    <tr>\n",
       "      <th>2023-12-04 21:56:00</th>\n",
       "      <td>3 Itaipava Latão</td>\n",
       "      <td>154</td>\n",
       "      <td>Venda</td>\n",
       "      <td>1</td>\n",
       "    </tr>\n",
       "    <tr>\n",
       "      <th>2023-12-04 22:09:00</th>\n",
       "      <td>Corote Limão</td>\n",
       "      <td>114</td>\n",
       "      <td>Venda</td>\n",
       "      <td>1</td>\n",
       "    </tr>\n",
       "    <tr>\n",
       "      <th>2023-12-04 22:10:00</th>\n",
       "      <td>Brahma Latão</td>\n",
       "      <td>19</td>\n",
       "      <td>Venda</td>\n",
       "      <td>6</td>\n",
       "    </tr>\n",
       "    <tr>\n",
       "      <th>2023-12-04 22:10:00</th>\n",
       "      <td>Guaraná 350ml</td>\n",
       "      <td>62</td>\n",
       "      <td>Venda</td>\n",
       "      <td>1</td>\n",
       "    </tr>\n",
       "  </tbody>\n",
       "</table>\n",
       "</div>"
      ],
      "text/plain": [
       "                                Product Code   Flow  Amount\n",
       "Date                                                       \n",
       "2023-12-04 20:08:00      Itaipava Latão   28  Venda       1\n",
       "2023-12-04 20:20:00    Cigarro (Varejo)  147  Venda       2\n",
       "2023-12-04 20:20:00    Cheetos Onda 45g   90  Venda       1\n",
       "2023-12-04 21:18:00  Cachaça Chora Rita  113  Venda       1\n",
       "2023-12-04 21:18:00        Corote Limão  114  Venda       1\n",
       "2023-12-04 21:19:00         Doritos 53g   84  Venda       1\n",
       "2023-12-04 21:19:00    3 Itaipava Latão  154  Venda       1\n",
       "2023-12-04 21:19:00            Pirulito   93  Venda       2\n",
       "2023-12-04 21:23:00   Malboro Ice Burst   42  Venda       1\n",
       "2023-12-04 21:23:00      3 Amstel 473ml  155  Venda       1\n",
       "2023-12-04 21:25:00      Dunhill Calton   45  Venda       1\n",
       "2023-12-04 21:56:00    3 Itaipava Latão  154  Venda       1\n",
       "2023-12-04 22:09:00        Corote Limão  114  Venda       1\n",
       "2023-12-04 22:10:00        Brahma Latão   19  Venda       6\n",
       "2023-12-04 22:10:00       Guaraná 350ml   62  Venda       1"
      ]
     },
     "execution_count": 120,
     "metadata": {},
     "output_type": "execute_result"
    }
   ],
   "source": [
    "df.head(15)"
   ]
  },
  {
   "cell_type": "markdown",
   "metadata": {},
   "source": [
    "### *EDA*\n",
    "---"
   ]
  },
  {
   "cell_type": "code",
   "execution_count": 121,
   "metadata": {},
   "outputs": [
    {
     "data": {
      "text/html": [
       "<div>\n",
       "<style scoped>\n",
       "    .dataframe tbody tr th:only-of-type {\n",
       "        vertical-align: middle;\n",
       "    }\n",
       "\n",
       "    .dataframe tbody tr th {\n",
       "        vertical-align: top;\n",
       "    }\n",
       "\n",
       "    .dataframe thead th {\n",
       "        text-align: right;\n",
       "    }\n",
       "</style>\n",
       "<table border=\"1\" class=\"dataframe\">\n",
       "  <thead>\n",
       "    <tr style=\"text-align: right;\">\n",
       "      <th></th>\n",
       "      <th>Product</th>\n",
       "      <th>Code</th>\n",
       "      <th>Flow</th>\n",
       "      <th>Amount</th>\n",
       "    </tr>\n",
       "  </thead>\n",
       "  <tbody>\n",
       "    <tr>\n",
       "      <th>count</th>\n",
       "      <td>8054</td>\n",
       "      <td>8054</td>\n",
       "      <td>8054</td>\n",
       "      <td>8054.000000</td>\n",
       "    </tr>\n",
       "    <tr>\n",
       "      <th>unique</th>\n",
       "      <td>213</td>\n",
       "      <td>214</td>\n",
       "      <td>4</td>\n",
       "      <td>NaN</td>\n",
       "    </tr>\n",
       "    <tr>\n",
       "      <th>top</th>\n",
       "      <td>Itaipava Latão</td>\n",
       "      <td>28</td>\n",
       "      <td>Venda</td>\n",
       "      <td>NaN</td>\n",
       "    </tr>\n",
       "    <tr>\n",
       "      <th>freq</th>\n",
       "      <td>916</td>\n",
       "      <td>916</td>\n",
       "      <td>7179</td>\n",
       "      <td>NaN</td>\n",
       "    </tr>\n",
       "    <tr>\n",
       "      <th>mean</th>\n",
       "      <td>NaN</td>\n",
       "      <td>NaN</td>\n",
       "      <td>NaN</td>\n",
       "      <td>12.432953</td>\n",
       "    </tr>\n",
       "    <tr>\n",
       "      <th>std</th>\n",
       "      <td>NaN</td>\n",
       "      <td>NaN</td>\n",
       "      <td>NaN</td>\n",
       "      <td>274.457785</td>\n",
       "    </tr>\n",
       "    <tr>\n",
       "      <th>min</th>\n",
       "      <td>NaN</td>\n",
       "      <td>NaN</td>\n",
       "      <td>NaN</td>\n",
       "      <td>0.000000</td>\n",
       "    </tr>\n",
       "    <tr>\n",
       "      <th>25%</th>\n",
       "      <td>NaN</td>\n",
       "      <td>NaN</td>\n",
       "      <td>NaN</td>\n",
       "      <td>1.000000</td>\n",
       "    </tr>\n",
       "    <tr>\n",
       "      <th>50%</th>\n",
       "      <td>NaN</td>\n",
       "      <td>NaN</td>\n",
       "      <td>NaN</td>\n",
       "      <td>1.000000</td>\n",
       "    </tr>\n",
       "    <tr>\n",
       "      <th>75%</th>\n",
       "      <td>NaN</td>\n",
       "      <td>NaN</td>\n",
       "      <td>NaN</td>\n",
       "      <td>3.000000</td>\n",
       "    </tr>\n",
       "    <tr>\n",
       "      <th>max</th>\n",
       "      <td>NaN</td>\n",
       "      <td>NaN</td>\n",
       "      <td>NaN</td>\n",
       "      <td>10000.000000</td>\n",
       "    </tr>\n",
       "  </tbody>\n",
       "</table>\n",
       "</div>"
      ],
      "text/plain": [
       "               Product  Code   Flow        Amount\n",
       "count             8054  8054   8054   8054.000000\n",
       "unique             213   214      4           NaN\n",
       "top     Itaipava Latão    28  Venda           NaN\n",
       "freq               916   916   7179           NaN\n",
       "mean               NaN   NaN    NaN     12.432953\n",
       "std                NaN   NaN    NaN    274.457785\n",
       "min                NaN   NaN    NaN      0.000000\n",
       "25%                NaN   NaN    NaN      1.000000\n",
       "50%                NaN   NaN    NaN      1.000000\n",
       "75%                NaN   NaN    NaN      3.000000\n",
       "max                NaN   NaN    NaN  10000.000000"
      ]
     },
     "execution_count": 121,
     "metadata": {},
     "output_type": "execute_result"
    }
   ],
   "source": [
    "df.describe(include='all')"
   ]
  },
  {
   "cell_type": "code",
   "execution_count": 122,
   "metadata": {},
   "outputs": [
    {
     "data": {
      "text/plain": [
       "Flow\n",
       "Venda                    7179\n",
       "Produto                   722\n",
       "Corrigiu                  144\n",
       "Cancelamento de venda       9\n",
       "Name: count, dtype: int64"
      ]
     },
     "execution_count": 122,
     "metadata": {},
     "output_type": "execute_result"
    }
   ],
   "source": [
    "df['Flow'].value_counts()"
   ]
  },
  {
   "cell_type": "code",
   "execution_count": 123,
   "metadata": {},
   "outputs": [
    {
     "data": {
      "text/plain": [
       "Product\n",
       "Itaipava Latão              916\n",
       "Coca Cola 2L                547\n",
       "Amstel Latão                371\n",
       "Heineken Latão              300\n",
       "Dunhill Calton              260\n",
       "                           ... \n",
       "Copão de Red label 700ml      1\n",
       "Corote Ice Limão              1\n",
       "Halls Menta                   1\n",
       "Copão Ballantine's 500ml      1\n",
       "Petra 600ml                   1\n",
       "Name: count, Length: 213, dtype: int64"
      ]
     },
     "execution_count": 123,
     "metadata": {},
     "output_type": "execute_result"
    }
   ],
   "source": [
    "df['Product'].value_counts()"
   ]
  },
  {
   "cell_type": "code",
   "execution_count": 124,
   "metadata": {},
   "outputs": [
    {
     "data": {
      "text/plain": [
       "Date\n",
       "2023-12-10     612\n",
       "2023-12-17     684\n",
       "2023-12-24     891\n",
       "2023-12-31     781\n",
       "2024-01-07       0\n",
       "2024-01-14     819\n",
       "2024-01-21     675\n",
       "2024-01-28     755\n",
       "2024-02-04     904\n",
       "2024-02-11    1214\n",
       "2024-02-18     961\n",
       "2024-02-25    1157\n",
       "2024-03-03     926\n",
       "2024-03-10    1048\n",
       "2024-03-17    1299\n",
       "2024-03-24    1386\n",
       "2024-03-31    1395\n",
       "Freq: W-SUN, Name: Amount, dtype: int64"
      ]
     },
     "execution_count": 124,
     "metadata": {},
     "output_type": "execute_result"
    }
   ],
   "source": [
    "sales = df[df['Flow'] == 'Venda'].groupby(pd.Grouper(freq='W'))['Amount'].sum()\n",
    "sales"
   ]
  },
  {
   "cell_type": "code",
   "execution_count": 125,
   "metadata": {},
   "outputs": [
    {
     "data": {
      "image/png": "[encoded data removed]",
      "text/plain": [
       "<Figure size 2000x1000 with 1 Axes>"
      ]
     },
     "metadata": {},
     "output_type": "display_data"
    }
   ],
   "source": [
    "time = sales.index\n",
    "\n",
    "buys = df[df['Flow'] == 'Produto'].groupby(pd.Grouper(freq='W'))['Amount'].sum()\n",
    "\n",
    "plt.figure(figsize=(20, 10))\n",
    "\n",
    "plt.plot(time, sales, color='blue',linewidth=2)\n",
    "\n",
    "plt.plot(time, buys, color='red', linewidth=2)\n",
    "\n",
    "plt.title('Histórico de Vendas e Compras')\n",
    "plt.xlabel('Tempo Decorrido (Dez-Mar)')\n",
    "plt.ylabel('Volume de Vendas')\n",
    "\n",
    "plt.show()"
   ]
  },
  {
   "cell_type": "code",
   "execution_count": 126,
   "metadata": {},
   "outputs": [
    {
     "name": "stdout",
     "output_type": "stream",
     "text": [
      "Product\n",
      "Itaipava Latão          3827\n",
      "Amstel Latão            1815\n",
      "Heineken Latão           907\n",
      "Coca Cola 2L             571\n",
      "Spaten Latão             434\n",
      "Heineken Long Neck       323\n",
      "Império Branca Latão     310\n",
      "Ice Off 275ml            304\n",
      "Name: Amount, dtype: int64 Index(['Itaipava Latão', 'Amstel Latão', 'Heineken Latão', 'Coca Cola 2L',\n",
      "       'Spaten Latão', 'Heineken Long Neck', 'Império Branca Latão',\n",
      "       'Ice Off 275ml'],\n",
      "      dtype='object', name='Product')\n"
     ]
    }
   ],
   "source": [
    "products_sales = df.loc[df.Flow == \"Venda\"].groupby('Product').Amount.sum()\n",
    "top_8_products_sales_vol = products_sales.sort_values(ascending=False)[:8].index\n",
    "top_8_products = products_sales.sort_values(ascending=False)[:8]\n",
    "\n",
    "print(top_8_products, top_8_products_sales_vol)"
   ]
  },
  {
   "cell_type": "code",
   "execution_count": 127,
   "metadata": {},
   "outputs": [
    {
     "data": {
      "image/png": "[encoded data removed]",
      "text/plain": [
       "<Figure size 1600x800 with 1 Axes>"
      ]
     },
     "metadata": {},
     "output_type": "display_data"
    }
   ],
   "source": [
    "plt.figure(figsize=(16, 8))\n",
    "\n",
    "plt.bar(top_8_products_sales_vol, top_8_products)\n",
    "\n",
    "plt.title('5 Produtos Mais Vendidos')\n",
    "plt.xlabel('Produtos')\n",
    "plt.ylabel('Volume de Vendas')\n",
    "\n",
    "plt.show()"
   ]
  },
  {
   "cell_type": "code",
   "execution_count": 128,
   "metadata": {},
   "outputs": [
    {
     "name": "stdout",
     "output_type": "stream",
     "text": [
      "Product\n",
      "3 Amstel 473ml      10000\n",
      "Cigarro (Varejo)    10000\n",
      "Itaipava Latão       4096\n",
      "Amstel Latão         1776\n",
      "Heineken Latão        948\n",
      "Coca Cola 2L          583\n",
      "Spaten Latão          446\n",
      "Itaipava 1L           372\n",
      "Name: Amount, dtype: int64 Index(['3 Amstel 473ml', 'Cigarro (Varejo)', 'Itaipava Latão', 'Amstel Latão',\n",
      "       'Heineken Latão', 'Coca Cola 2L', 'Spaten Latão', 'Itaipava 1L'],\n",
      "      dtype='object', name='Product')\n"
     ]
    }
   ],
   "source": [
    "products_buys = df.loc[df.Flow == \"Produto\"].groupby('Product').Amount.sum()\n",
    "top_8_products_buys_vol = products_buys.sort_values(ascending=False)[:8].index\n",
    "top_8_products = products_buys.sort_values(ascending=False)[:8]\n",
    "\n",
    "print(top_8_products, top_8_products_buys_vol)"
   ]
  },
  {
   "cell_type": "code",
   "execution_count": 129,
   "metadata": {},
   "outputs": [
    {
     "data": {
      "image/png": "[encoded data removed]",
      "text/plain": [
       "<Figure size 1600x800 with 1 Axes>"
      ]
     },
     "metadata": {},
     "output_type": "display_data"
    }
   ],
   "source": [
    "plt.figure(figsize=(16, 8))\n",
    "\n",
    "plt.bar(top_8_products_buys_vol, top_8_products, color='red')\n",
    "\n",
    "plt.title('5 Produtos Mais Comprados')\n",
    "plt.xlabel('Produtos')\n",
    "plt.ylabel('Volume de Compras')\n",
    "\n",
    "plt.show()"
   ]
  },
  {
   "cell_type": "code",
   "execution_count": 130,
   "metadata": {},
   "outputs": [
    {
     "data": {
      "application/vnd.plotly.v1+json": {
       "config": {
        "plotlyServerURL": "https://plot.ly"
       },
       "data": [
        {
         "hovertemplate": "<extra></extra>",
         "legendgroup": "",
         "line": {
          "color": "#636efa",
          "dash": "solid"
         },
         "marker": {
          "symbol": "circle"
         },
         "mode": "lines",
         "name": "",
         "orientation": "v",
         "showlegend": false,
         "type": "scatter",
         "xaxis": "x",
         "yaxis": "y"
        },
        {
         "line": {
          "color": "blue",
          "width": 2
         },
         "mode": "lines",
         "name": "Vendas",
         "type": "scatter",
         "x": [
          "2023-12-10T00:00:00",
          "2023-12-17T00:00:00",
          "2023-12-24T00:00:00",
          "2023-12-31T00:00:00",
          "2024-01-07T00:00:00",
          "2024-01-14T00:00:00",
          "2024-01-21T00:00:00",
          "2024-01-28T00:00:00",
          "2024-02-04T00:00:00",
          "2024-02-11T00:00:00",
          "2024-02-18T00:00:00",
          "2024-02-25T00:00:00",
          "2024-03-03T00:00:00",
          "2024-03-10T00:00:00",
          "2024-03-17T00:00:00",
          "2024-03-24T00:00:00",
          "2024-03-31T00:00:00"
         ],
         "y": [
          612,
          684,
          891,
          781,
          0,
          819,
          675,
          755,
          904,
          1214,
          961,
          1157,
          926,
          1048,
          1299,
          1386,
          1395
         ]
        },
        {
         "line": {
          "color": "red",
          "width": 2
         },
         "mode": "lines",
         "name": "Compras",
         "type": "scatter",
         "x": [
          "2023-12-10T00:00:00",
          "2023-12-17T00:00:00",
          "2023-12-24T00:00:00",
          "2023-12-31T00:00:00",
          "2024-01-07T00:00:00",
          "2024-01-14T00:00:00",
          "2024-01-21T00:00:00",
          "2024-01-28T00:00:00",
          "2024-02-04T00:00:00",
          "2024-02-11T00:00:00",
          "2024-02-18T00:00:00",
          "2024-02-25T00:00:00",
          "2024-03-03T00:00:00",
          "2024-03-10T00:00:00",
          "2024-03-17T00:00:00",
          "2024-03-24T00:00:00",
          "2024-03-31T00:00:00"
         ],
         "y": [
          20390,
          1336,
          969,
          948,
          313,
          597,
          1026,
          587,
          1231,
          820,
          1695,
          1030,
          684,
          797,
          1447,
          1889,
          2181
         ]
        }
       ],
       "layout": {
        "height": 800,
        "legend": {
         "tracegroupgap": 0
        },
        "margin": {
         "t": 60
        },
        "template": {
         "data": {
          "bar": [
           {
            "error_x": {
             "color": "#2a3f5f"
            },
            "error_y": {
             "color": "#2a3f5f"
            },
            "marker": {
             "line": {
              "color": "#E5ECF6",
              "width": 0.5
             },
             "pattern": {
              "fillmode": "overlay",
              "size": 10,
              "solidity": 0.2
             }
            },
            "type": "bar"
           }
          ],
          "barpolar": [
           {
            "marker": {
             "line": {
              "color": "#E5ECF6",
              "width": 0.5
             },
             "pattern": {
              "fillmode": "overlay",
              "size": 10,
              "solidity": 0.2
             }
            },
            "type": "barpolar"
           }
          ],
          "carpet": [
           {
            "aaxis": {
             "endlinecolor": "#2a3f5f",
             "gridcolor": "white",
             "linecolor": "white",
             "minorgridcolor": "white",
             "startlinecolor": "#2a3f5f"
            },
            "baxis": {
             "endlinecolor": "#2a3f5f",
             "gridcolor": "white",
             "linecolor": "white",
             "minorgridcolor": "white",
             "startlinecolor": "#2a3f5f"
            },
            "type": "carpet"
           }
          ],
          "choropleth": [
           {
            "colorbar": {
             "outlinewidth": 0,
             "ticks": ""
            },
            "type": "choropleth"
           }
          ],
          "contour": [
           {
            "colorbar": {
             "outlinewidth": 0,
             "ticks": ""
            },
            "colorscale": [
             [
              0,
              "#0d0887"
             ],
             [
              0.1111111111111111,
              "#46039f"
             ],
             [
              0.2222222222222222,
              "#7201a8"
             ],
             [
              0.3333333333333333,
              "#9c179e"
             ],
             [
              0.4444444444444444,
              "#bd3786"
             ],
             [
              0.5555555555555556,
              "#d8576b"
             ],
             [
              0.6666666666666666,
              "#ed7953"
             ],
             [
              0.7777777777777778,
              "#fb9f3a"
             ],
             [
              0.8888888888888888,
              "#fdca26"
             ],
             [
              1,
              "#f0f921"
             ]
            ],
            "type": "contour"
           }
          ],
          "contourcarpet": [
           {
            "colorbar": {
             "outlinewidth": 0,
             "ticks": ""
            },
            "type": "contourcarpet"
           }
          ],
          "heatmap": [
           {
            "colorbar": {
             "outlinewidth": 0,
             "ticks": ""
            },
            "colorscale": [
             [
              0,
              "#0d0887"
             ],
             [
              0.1111111111111111,
              "#46039f"
             ],
             [
              0.2222222222222222,
              "#7201a8"
             ],
             [
              0.3333333333333333,
              "#9c179e"
             ],
             [
              0.4444444444444444,
              "#bd3786"
             ],
             [
              0.5555555555555556,
              "#d8576b"
             ],
             [
              0.6666666666666666,
              "#ed7953"
             ],
             [
              0.7777777777777778,
              "#fb9f3a"
             ],
             [
              0.8888888888888888,
              "#fdca26"
             ],
             [
              1,
              "#f0f921"
             ]
            ],
            "type": "heatmap"
           }
          ],
          "heatmapgl": [
           {
            "colorbar": {
             "outlinewidth": 0,
             "ticks": ""
            },
            "colorscale": [
             [
              0,
              "#0d0887"
             ],
             [
              0.1111111111111111,
              "#46039f"
             ],
             [
              0.2222222222222222,
              "#7201a8"
             ],
             [
              0.3333333333333333,
              "#9c179e"
             ],
             [
              0.4444444444444444,
              "#bd3786"
             ],
             [
              0.5555555555555556,
              "#d8576b"
             ],
             [
              0.6666666666666666,
              "#ed7953"
             ],
             [
              0.7777777777777778,
              "#fb9f3a"
             ],
             [
              0.8888888888888888,
              "#fdca26"
             ],
             [
              1,
              "#f0f921"
             ]
            ],
            "type": "heatmapgl"
           }
          ],
          "histogram": [
           {
            "marker": {
             "pattern": {
              "fillmode": "overlay",
              "size": 10,
              "solidity": 0.2
             }
            },
            "type": "histogram"
           }
          ],
          "histogram2d": [
           {
            "colorbar": {
             "outlinewidth": 0,
             "ticks": ""
            },
            "colorscale": [
             [
              0,
              "#0d0887"
             ],
             [
              0.1111111111111111,
              "#46039f"
             ],
             [
              0.2222222222222222,
              "#7201a8"
             ],
             [
              0.3333333333333333,
              "#9c179e"
             ],
             [
              0.4444444444444444,
              "#bd3786"
             ],
             [
              0.5555555555555556,
              "#d8576b"
             ],
             [
              0.6666666666666666,
              "#ed7953"
             ],
             [
              0.7777777777777778,
              "#fb9f3a"
             ],
             [
              0.8888888888888888,
              "#fdca26"
             ],
             [
              1,
              "#f0f921"
             ]
            ],
            "type": "histogram2d"
           }
          ],
          "histogram2dcontour": [
           {
            "colorbar": {
             "outlinewidth": 0,
             "ticks": ""
            },
            "colorscale": [
             [
              0,
              "#0d0887"
             ],
             [
              0.1111111111111111,
              "#46039f"
             ],
             [
              0.2222222222222222,
              "#7201a8"
             ],
             [
              0.3333333333333333,
              "#9c179e"
             ],
             [
              0.4444444444444444,
              "#bd3786"
             ],
             [
              0.5555555555555556,
              "#d8576b"
             ],
             [
              0.6666666666666666,
              "#ed7953"
             ],
             [
              0.7777777777777778,
              "#fb9f3a"
             ],
             [
              0.8888888888888888,
              "#fdca26"
             ],
             [
              1,
              "#f0f921"
             ]
            ],
            "type": "histogram2dcontour"
           }
          ],
          "mesh3d": [
           {
            "colorbar": {
             "outlinewidth": 0,
             "ticks": ""
            },
            "type": "mesh3d"
           }
          ],
          "parcoords": [
           {
            "line": {
             "colorbar": {
              "outlinewidth": 0,
              "ticks": ""
             }
            },
            "type": "parcoords"
           }
          ],
          "pie": [
           {
            "automargin": true,
            "type": "pie"
           }
          ],
          "scatter": [
           {
            "fillpattern": {
             "fillmode": "overlay",
             "size": 10,
             "solidity": 0.2
            },
            "type": "scatter"
           }
          ],
          "scatter3d": [
           {
            "line": {
             "colorbar": {
              "outlinewidth": 0,
              "ticks": ""
             }
            },
            "marker": {
             "colorbar": {
              "outlinewidth": 0,
              "ticks": ""
             }
            },
            "type": "scatter3d"
           }
          ],
          "scattercarpet": [
           {
            "marker": {
             "colorbar": {
              "outlinewidth": 0,
              "ticks": ""
             }
            },
            "type": "scattercarpet"
           }
          ],
          "scattergeo": [
           {
            "marker": {
             "colorbar": {
              "outlinewidth": 0,
              "ticks": ""
             }
            },
            "type": "scattergeo"
           }
          ],
          "scattergl": [
           {
            "marker": {
             "colorbar": {
              "outlinewidth": 0,
              "ticks": ""
             }
            },
            "type": "scattergl"
           }
          ],
          "scattermapbox": [
           {
            "marker": {
             "colorbar": {
              "outlinewidth": 0,
              "ticks": ""
             }
            },
            "type": "scattermapbox"
           }
          ],
          "scatterpolar": [
           {
            "marker": {
             "colorbar": {
              "outlinewidth": 0,
              "ticks": ""
             }
            },
            "type": "scatterpolar"
           }
          ],
          "scatterpolargl": [
           {
            "marker": {
             "colorbar": {
              "outlinewidth": 0,
              "ticks": ""
             }
            },
            "type": "scatterpolargl"
           }
          ],
          "scatterternary": [
           {
            "marker": {
             "colorbar": {
              "outlinewidth": 0,
              "ticks": ""
             }
            },
            "type": "scatterternary"
           }
          ],
          "surface": [
           {
            "colorbar": {
             "outlinewidth": 0,
             "ticks": ""
            },
            "colorscale": [
             [
              0,
              "#0d0887"
             ],
             [
              0.1111111111111111,
              "#46039f"
             ],
             [
              0.2222222222222222,
              "#7201a8"
             ],
             [
              0.3333333333333333,
              "#9c179e"
             ],
             [
              0.4444444444444444,
              "#bd3786"
             ],
             [
              0.5555555555555556,
              "#d8576b"
             ],
             [
              0.6666666666666666,
              "#ed7953"
             ],
             [
              0.7777777777777778,
              "#fb9f3a"
             ],
             [
              0.8888888888888888,
              "#fdca26"
             ],
             [
              1,
              "#f0f921"
             ]
            ],
            "type": "surface"
           }
          ],
          "table": [
           {
            "cells": {
             "fill": {
              "color": "#EBF0F8"
             },
             "line": {
              "color": "white"
             }
            },
            "header": {
             "fill": {
              "color": "#C8D4E3"
             },
             "line": {
              "color": "white"
             }
            },
            "type": "table"
           }
          ]
         },
         "layout": {
          "annotationdefaults": {
           "arrowcolor": "#2a3f5f",
           "arrowhead": 0,
           "arrowwidth": 1
          },
          "autotypenumbers": "strict",
          "coloraxis": {
           "colorbar": {
            "outlinewidth": 0,
            "ticks": ""
           }
          },
          "colorscale": {
           "diverging": [
            [
             0,
             "#8e0152"
            ],
            [
             0.1,
             "#c51b7d"
            ],
            [
             0.2,
             "#de77ae"
            ],
            [
             0.3,
             "#f1b6da"
            ],
            [
             0.4,
             "#fde0ef"
            ],
            [
             0.5,
             "#f7f7f7"
            ],
            [
             0.6,
             "#e6f5d0"
            ],
            [
             0.7,
             "#b8e186"
            ],
            [
             0.8,
             "#7fbc41"
            ],
            [
             0.9,
             "#4d9221"
            ],
            [
             1,
             "#276419"
            ]
           ],
           "sequential": [
            [
             0,
             "#0d0887"
            ],
            [
             0.1111111111111111,
             "#46039f"
            ],
            [
             0.2222222222222222,
             "#7201a8"
            ],
            [
             0.3333333333333333,
             "#9c179e"
            ],
            [
             0.4444444444444444,
             "#bd3786"
            ],
            [
             0.5555555555555556,
             "#d8576b"
            ],
            [
             0.6666666666666666,
             "#ed7953"
            ],
            [
             0.7777777777777778,
             "#fb9f3a"
            ],
            [
             0.8888888888888888,
             "#fdca26"
            ],
            [
             1,
             "#f0f921"
            ]
           ],
           "sequentialminus": [
            [
             0,
             "#0d0887"
            ],
            [
             0.1111111111111111,
             "#46039f"
            ],
            [
             0.2222222222222222,
             "#7201a8"
            ],
            [
             0.3333333333333333,
             "#9c179e"
            ],
            [
             0.4444444444444444,
             "#bd3786"
            ],
            [
             0.5555555555555556,
             "#d8576b"
            ],
            [
             0.6666666666666666,
             "#ed7953"
            ],
            [
             0.7777777777777778,
             "#fb9f3a"
            ],
            [
             0.8888888888888888,
             "#fdca26"
            ],
            [
             1,
             "#f0f921"
            ]
           ]
          },
          "colorway": [
           "#636efa",
           "#EF553B",
           "#00cc96",
           "#ab63fa",
           "#FFA15A",
           "#19d3f3",
           "#FF6692",
           "#B6E880",
           "#FF97FF",
           "#FECB52"
          ],
          "font": {
           "color": "#2a3f5f"
          },
          "geo": {
           "bgcolor": "white",
           "lakecolor": "white",
           "landcolor": "#E5ECF6",
           "showlakes": true,
           "showland": true,
           "subunitcolor": "white"
          },
          "hoverlabel": {
           "align": "left"
          },
          "hovermode": "closest",
          "mapbox": {
           "style": "light"
          },
          "paper_bgcolor": "white",
          "plot_bgcolor": "#E5ECF6",
          "polar": {
           "angularaxis": {
            "gridcolor": "white",
            "linecolor": "white",
            "ticks": ""
           },
           "bgcolor": "#E5ECF6",
           "radialaxis": {
            "gridcolor": "white",
            "linecolor": "white",
            "ticks": ""
           }
          },
          "scene": {
           "xaxis": {
            "backgroundcolor": "#E5ECF6",
            "gridcolor": "white",
            "gridwidth": 2,
            "linecolor": "white",
            "showbackground": true,
            "ticks": "",
            "zerolinecolor": "white"
           },
           "yaxis": {
            "backgroundcolor": "#E5ECF6",
            "gridcolor": "white",
            "gridwidth": 2,
            "linecolor": "white",
            "showbackground": true,
            "ticks": "",
            "zerolinecolor": "white"
           },
           "zaxis": {
            "backgroundcolor": "#E5ECF6",
            "gridcolor": "white",
            "gridwidth": 2,
            "linecolor": "white",
            "showbackground": true,
            "ticks": "",
            "zerolinecolor": "white"
           }
          },
          "shapedefaults": {
           "line": {
            "color": "#2a3f5f"
           }
          },
          "ternary": {
           "aaxis": {
            "gridcolor": "white",
            "linecolor": "white",
            "ticks": ""
           },
           "baxis": {
            "gridcolor": "white",
            "linecolor": "white",
            "ticks": ""
           },
           "bgcolor": "#E5ECF6",
           "caxis": {
            "gridcolor": "white",
            "linecolor": "white",
            "ticks": ""
           }
          },
          "title": {
           "x": 0.05
          },
          "xaxis": {
           "automargin": true,
           "gridcolor": "white",
           "linecolor": "white",
           "ticks": "",
           "title": {
            "standoff": 15
           },
           "zerolinecolor": "white",
           "zerolinewidth": 2
          },
          "yaxis": {
           "automargin": true,
           "gridcolor": "white",
           "linecolor": "white",
           "ticks": "",
           "title": {
            "standoff": 15
           },
           "zerolinecolor": "white",
           "zerolinewidth": 2
          }
         }
        },
        "title": {
         "text": "Histórico de Vendas e Compras"
        },
        "width": 1200,
        "xaxis": {
         "anchor": "y",
         "domain": [
          0,
          1
         ],
         "title": {
          "text": "Tempo Decorrido (Dez-Mar)"
         }
        },
        "yaxis": {
         "anchor": "x",
         "domain": [
          0,
          1
         ],
         "range": [
          -100,
          20390
         ],
         "title": {
          "text": "Volume de Vendas"
         }
        }
       }
      }
     },
     "metadata": {},
     "output_type": "display_data"
    }
   ],
   "source": [
    "import plotly.express as px\n",
    "import pandas as pd\n",
    "\n",
    "time = sales.index\n",
    "buys = df[df['Flow'] == 'Produto'].groupby(pd.Grouper(freq='W'))['Amount'].sum()\n",
    "\n",
    "fig = px.line()\n",
    "fig.add_scatter(x=time, y=sales, mode='lines', name='Vendas', line=dict(color='blue', width=2))\n",
    "fig.add_scatter(x=time, y=buys, mode='lines', name='Compras', line=dict(color='red', width=2))\n",
    "\n",
    "fig.update_layout(\n",
    "    title='Histórico de Vendas e Compras',\n",
    "    xaxis_title='Tempo Decorrido (Dez-Mar)',\n",
    "    yaxis_title='Volume de Vendas',\n",
    "    width=1200,\n",
    "    height=800,\n",
    "    yaxis=dict(range=[-100, max(max(sales), max(buys))]) \n",
    ")\n",
    "\n",
    "fig.show()\n"
   ]
  }
 ],
 "metadata": {
  "kernelspec": {
   "display_name": "Python 3",
   "language": "python",
   "name": "python3"
  },
  "language_info": {
   "codemirror_mode": {
    "name": "ipython",
    "version": 3
   },
   "file_extension": ".py",
   "mimetype": "text/x-python",
   "name": "python",
   "nbconvert_exporter": "python",
   "pygments_lexer": "ipython3",
   "version": "3.11.5"
  }
 },
 "nbformat": 4,
 "nbformat_minor": 2
}
